{
  "nbformat": 4,
  "nbformat_minor": 0,
  "metadata": {
    "kernelspec": {
      "display_name": "Python 3",
      "language": "python",
      "name": "python3"
    },
    "language_info": {
      "codemirror_mode": {
        "name": "ipython",
        "version": 3
      },
      "file_extension": ".py",
      "mimetype": "text/x-python",
      "name": "python",
      "nbconvert_exporter": "python",
      "pygments_lexer": "ipython3",
      "version": "3.8.3"
    },
    "colab": {
      "name": "OT-codon-usage-2-gram-negative-clades.ipynb",
      "provenance": [],
      "collapsed_sections": [],
      "include_colab_link": true
    }
  },
  "cells": [
    {
      "cell_type": "markdown",
      "metadata": {
        "id": "view-in-github",
        "colab_type": "text"
      },
      "source": [
        "<a href=\"https://colab.research.google.com/github/favorov/ot_and_codon_usage/blob/master/OT_codon_usage_2_gram_negative_clades.ipynb\" target=\"_parent\"><img src=\"https://colab.research.google.com/assets/colab-badge.svg\" alt=\"Open In Colab\"/></a>"
      ]
    },
    {
      "cell_type": "code",
      "metadata": {
        "id": "f6u9h3y_Ioex",
        "outputId": "5ce86c82-2b1c-4806-d9d6-f59483b878ea",
        "colab": {
          "base_uri": "https://localhost:8080/"
        }
      },
      "source": [
        "import os\n",
        "import pandas as pd\n",
        "import numpy as np\n",
        "import matplotlib.pyplot as plt\n",
        "import seaborn as sns\n",
        "\n",
        "#trying to import ot\n",
        "#if it does not work, pip install -- if fails, we will get error\n",
        "try:\n",
        "  import ot\n",
        "except ImportError:\n",
        "  !pip install pot\n",
        "  import ot\n",
        "\n",
        "goocola=True\n",
        "try:\n",
        "  from google.colab import drive\n",
        "  drive.mount('/content/drive')\n",
        "  os.chdir('/content/drive/My Drive/OT+Codon usage colab')\n",
        "except ImportError:\n",
        "  goocola=False\n",
        "#Are we in google clabs?? If somebody cares, the goocola boolean says it\n",
        "#Whatever, the current folder is ready for read/write\n",
        "#if we are in collab, it is My Drive/OT+Codon usage colab \n"
      ],
      "execution_count": 182,
      "outputs": [
        {
          "output_type": "stream",
          "text": [
            "Drive already mounted at /content/drive; to attempt to forcibly remount, call drive.mount(\"/content/drive\", force_remount=True).\n"
          ],
          "name": "stdout"
        }
      ]
    },
    {
      "cell_type": "code",
      "metadata": {
        "id": "R61PO7_1IgEY"
      },
      "source": [
        "#extract information about the frequency distribution\n",
        "#def extract_freq(a, n, nc):\n",
        "#        N   = a[n - 1] + a[n]\n",
        "#        out = [0] * nc\n",
        "#        for m in range(nc):\n",
        "#            out[m] = a[n - 1 + m] / N\n",
        "#        return(out)\n",
        "\n",
        "#def extract_freq_new(a, b):\n",
        "#        N   = a + b\n",
        "#        j   = [a, b]\n",
        "#        out = [0] * 2\n",
        "#        for m in range(2):\n",
        "#            out[m] = j[m] / N\n",
        "#        return(out)\n",
        "\n",
        "#counts is list. Python get lists by reference, so we modify them\n",
        "def counts_to_freqs(counts):\n",
        "    length=len(counts)\n",
        "    csum=sum(counts)\n",
        "    for i in range(length):\n",
        "        counts[i]=counts[i]/csum\n",
        "    return(counts)\n",
        "\n",
        "\n",
        "\n"
      ],
      "execution_count": 183,
      "outputs": []
    },
    {
      "cell_type": "code",
      "metadata": {
        "id": "GmTfsXi7IgEQ",
        "outputId": "550da860-17e8-4593-ba30-e2bf1bd91813",
        "colab": {
          "base_uri": "https://localhost:8080/"
        }
      },
      "source": [
        "\n",
        "#just a test for pd.read_excel\n",
        "file_name = 'phen_small.xlsx'\n",
        "\n",
        "df = pd.read_excel(io = file_name, header = [0, 1])\n",
        "print(df.head(5))  # print first 5 rows of the dataframe"
      ],
      "execution_count": 184,
      "outputs": [
        {
          "output_type": "stream",
          "text": [
            "  Phenylalanine (Phe/F)            ...                    \n",
            "                  # CDS Organelle  ...       TTT       TTC\n",
            "0               3888949   genomic  ...  25537177  18665561\n",
            "1               2710660   genomic  ...   3479845  24457252\n",
            "2               2141118   genomic  ...  12017184  12262306\n",
            "3               1387878   genomic  ...    966339  14576929\n",
            "4               1462644   genomic  ...  13657458   4995245\n",
            "\n",
            "[5 rows x 7 columns]\n"
          ],
          "name": "stdout"
        }
      ]
    },
    {
      "cell_type": "code",
      "metadata": {
        "id": "lBBVwmlMIgEd",
        "outputId": "da109bea-776f-46e2-89b1-14a51b8324ec",
        "colab": {
          "base_uri": "https://localhost:8080/"
        }
      },
      "source": [
        "#extract test data\n",
        "\n",
        "M = [[0, 1], [1, 0]]\n",
        "a = counts_to_freqs([df.iloc[0,5],df.iloc[0,6]])\n",
        "b = counts_to_freqs([df.iloc[1,5],df.iloc[1,6]])\n",
        "#eps = 200\n",
        "#print(type(df.iloc[1][1]))\n",
        "#simple ot test\n",
        "ot.emd2(a, b, M)\n"
      ],
      "execution_count": 185,
      "outputs": [
        {
          "output_type": "execute_result",
          "data": {
            "text/plain": [
              "0.45316839065367426"
            ]
          },
          "metadata": {
            "tags": []
          },
          "execution_count": 185
        }
      ]
    },
    {
      "cell_type": "code",
      "metadata": {
        "id": "YXlji7wKm-xv",
        "outputId": "14aaa7ef-83cc-4750-95db-db3b1d831afd",
        "colab": {
          "base_uri": "https://localhost:8080/"
        }
      },
      "source": [
        "file_name = 'phen.xlsx'\n",
        "\n",
        "df = pd.read_excel(io = file_name, header = [0, 1])\n",
        "print(df.head(5))  # print first 5 rows of the dataframe"
      ],
      "execution_count": 186,
      "outputs": [
        {
          "output_type": "stream",
          "text": [
            "  Phenylalanine (Phe/F)                  ...                                    \n",
            "                  # CDS Organelle TaxID  ...     # TTC TTT-Fraction TTC-Fraction\n",
            "0               3888949   genomic   562  ...  18665561    57.772840    42.227160\n",
            "1               2710660   genomic   520  ...  24457252    12.456001    87.543999\n",
            "2               2141118   genomic   573  ...  12262306    49.495208    50.504792\n",
            "3               1387878   genomic   287  ...  14576929     6.217090    93.782910\n",
            "4               1462644   genomic  1280  ...   4995245    73.219726    26.780274\n",
            "\n",
            "[5 rows x 9 columns]\n"
          ],
          "name": "stdout"
        }
      ]
    },
    {
      "cell_type": "code",
      "metadata": {
        "id": "Ct5DxzudnfDj",
        "outputId": "a66c7659-cc10-4fe4-eab7-73f982028cbc",
        "colab": {
          "base_uri": "https://localhost:8080/"
        }
      },
      "source": [
        "#just a test line: we want to know that all of them are 'genomic'\n",
        "#and, we look hows to refer to columns\n",
        "all(df.iloc[:,1]=='genomic')"
      ],
      "execution_count": 187,
      "outputs": [
        {
          "output_type": "execute_result",
          "data": {
            "text/plain": [
              "True"
            ]
          },
          "metadata": {
            "tags": []
          },
          "execution_count": 187
        }
      ]
    },
    {
      "cell_type": "code",
      "metadata": {
        "id": "YPj0c16mYjIp"
      },
      "source": [
        "#we remove short things that are phages, etc -- here it makes sense to plot\n",
        "#the distribution of all the stuff by length, probaly it is bimodal\n",
        "df=df[df.iloc[:,3]>=100000]"
      ],
      "execution_count": 188,
      "outputs": []
    },
    {
      "cell_type": "code",
      "metadata": {
        "id": "mKQ8kXO8Ysyu",
        "outputId": "8f762fe9-7fee-49c4-f23a-978e38661117",
        "colab": {
          "base_uri": "https://localhost:8080/",
          "height": 431
        }
      },
      "source": [
        "orgainm_name=df.iloc[:,4]\n",
        "esch_index=orgainm_name.str.contains('Escherichia',regex=False)\n",
        "kleb_index=orgainm_name.str.contains('Klebsiella',regex=False)\n",
        "digest=df[esch_index | kleb_index]\n",
        "digest"
      ],
      "execution_count": 218,
      "outputs": [
        {
          "output_type": "execute_result",
          "data": {
            "text/html": [
              "<div>\n",
              "<style scoped>\n",
              "    .dataframe tbody tr th:only-of-type {\n",
              "        vertical-align: middle;\n",
              "    }\n",
              "\n",
              "    .dataframe tbody tr th {\n",
              "        vertical-align: top;\n",
              "    }\n",
              "\n",
              "    .dataframe thead tr th {\n",
              "        text-align: left;\n",
              "    }\n",
              "</style>\n",
              "<table border=\"1\" class=\"dataframe\">\n",
              "  <thead>\n",
              "    <tr>\n",
              "      <th></th>\n",
              "      <th colspan=\"9\" halign=\"left\">Phenylalanine (Phe/F)</th>\n",
              "    </tr>\n",
              "    <tr>\n",
              "      <th></th>\n",
              "      <th># CDS</th>\n",
              "      <th>Organelle</th>\n",
              "      <th>TaxID</th>\n",
              "      <th># Codons</th>\n",
              "      <th>Species</th>\n",
              "      <th># TTT</th>\n",
              "      <th># TTC</th>\n",
              "      <th>TTT-Fraction</th>\n",
              "      <th>TTC-Fraction</th>\n",
              "    </tr>\n",
              "  </thead>\n",
              "  <tbody>\n",
              "    <tr>\n",
              "      <th>0</th>\n",
              "      <td>3888949</td>\n",
              "      <td>genomic</td>\n",
              "      <td>562</td>\n",
              "      <td>1149753562</td>\n",
              "      <td>Escherichia coli</td>\n",
              "      <td>25537177</td>\n",
              "      <td>18665561</td>\n",
              "      <td>57.772840</td>\n",
              "      <td>42.227160</td>\n",
              "    </tr>\n",
              "    <tr>\n",
              "      <th>2</th>\n",
              "      <td>2141118</td>\n",
              "      <td>genomic</td>\n",
              "      <td>573</td>\n",
              "      <td>635536395</td>\n",
              "      <td>Klebsiella pneumoniae</td>\n",
              "      <td>12017184</td>\n",
              "      <td>12262306</td>\n",
              "      <td>49.495208</td>\n",
              "      <td>50.504792</td>\n",
              "    </tr>\n",
              "    <tr>\n",
              "      <th>25</th>\n",
              "      <td>231131</td>\n",
              "      <td>genomic</td>\n",
              "      <td>72407</td>\n",
              "      <td>69067429</td>\n",
              "      <td>Klebsiella pneumoniae subsp. pneumoniae</td>\n",
              "      <td>1306587</td>\n",
              "      <td>1336942</td>\n",
              "      <td>49.425862</td>\n",
              "      <td>50.574138</td>\n",
              "    </tr>\n",
              "    <tr>\n",
              "      <th>44</th>\n",
              "      <td>168232</td>\n",
              "      <td>genomic</td>\n",
              "      <td>548</td>\n",
              "      <td>50837616</td>\n",
              "      <td>Klebsiella aerogenes</td>\n",
              "      <td>955433</td>\n",
              "      <td>1001273</td>\n",
              "      <td>48.828644</td>\n",
              "      <td>51.171356</td>\n",
              "    </tr>\n",
              "    <tr>\n",
              "      <th>57</th>\n",
              "      <td>128713</td>\n",
              "      <td>genomic</td>\n",
              "      <td>83334</td>\n",
              "      <td>37840248</td>\n",
              "      <td>Escherichia coli O157:H7</td>\n",
              "      <td>837069</td>\n",
              "      <td>596619</td>\n",
              "      <td>58.385716</td>\n",
              "      <td>41.614284</td>\n",
              "    </tr>\n",
              "    <tr>\n",
              "      <th>...</th>\n",
              "      <td>...</td>\n",
              "      <td>...</td>\n",
              "      <td>...</td>\n",
              "      <td>...</td>\n",
              "      <td>...</td>\n",
              "      <td>...</td>\n",
              "      <td>...</td>\n",
              "      <td>...</td>\n",
              "      <td>...</td>\n",
              "    </tr>\n",
              "    <tr>\n",
              "      <th>8924</th>\n",
              "      <td>588</td>\n",
              "      <td>genomic</td>\n",
              "      <td>1874688</td>\n",
              "      <td>106719</td>\n",
              "      <td>Escherichia phage vB_Eco_slurp01</td>\n",
              "      <td>3170</td>\n",
              "      <td>1611</td>\n",
              "      <td>66.304120</td>\n",
              "      <td>33.695880</td>\n",
              "    </tr>\n",
              "    <tr>\n",
              "      <th>8929</th>\n",
              "      <td>576</td>\n",
              "      <td>genomic</td>\n",
              "      <td>2419744</td>\n",
              "      <td>105950</td>\n",
              "      <td>Escherichia phage Ecwhy_1</td>\n",
              "      <td>2716</td>\n",
              "      <td>2003</td>\n",
              "      <td>57.554567</td>\n",
              "      <td>42.445433</td>\n",
              "    </tr>\n",
              "    <tr>\n",
              "      <th>8935</th>\n",
              "      <td>534</td>\n",
              "      <td>genomic</td>\n",
              "      <td>1147094</td>\n",
              "      <td>104909</td>\n",
              "      <td>Klebsiella phage vB_KleM_RaK2</td>\n",
              "      <td>3347</td>\n",
              "      <td>1475</td>\n",
              "      <td>69.411033</td>\n",
              "      <td>30.588967</td>\n",
              "    </tr>\n",
              "    <tr>\n",
              "      <th>8943</th>\n",
              "      <td>542</td>\n",
              "      <td>genomic</td>\n",
              "      <td>2060721</td>\n",
              "      <td>103952</td>\n",
              "      <td>Escherichia phage T2</td>\n",
              "      <td>3436</td>\n",
              "      <td>1191</td>\n",
              "      <td>74.259780</td>\n",
              "      <td>25.740220</td>\n",
              "    </tr>\n",
              "    <tr>\n",
              "      <th>8958</th>\n",
              "      <td>551</td>\n",
              "      <td>genomic</td>\n",
              "      <td>1273738</td>\n",
              "      <td>102061</td>\n",
              "      <td>Escherichia phage PBECO4</td>\n",
              "      <td>3041</td>\n",
              "      <td>1563</td>\n",
              "      <td>66.051260</td>\n",
              "      <td>33.948740</td>\n",
              "    </tr>\n",
              "  </tbody>\n",
              "</table>\n",
              "<p>198 rows × 9 columns</p>\n",
              "</div>"
            ],
            "text/plain": [
              "     Phenylalanine (Phe/F)            ...                          \n",
              "                     # CDS Organelle  ... TTT-Fraction TTC-Fraction\n",
              "0                  3888949   genomic  ...    57.772840    42.227160\n",
              "2                  2141118   genomic  ...    49.495208    50.504792\n",
              "25                  231131   genomic  ...    49.425862    50.574138\n",
              "44                  168232   genomic  ...    48.828644    51.171356\n",
              "57                  128713   genomic  ...    58.385716    41.614284\n",
              "...                    ...       ...  ...          ...          ...\n",
              "8924                   588   genomic  ...    66.304120    33.695880\n",
              "8929                   576   genomic  ...    57.554567    42.445433\n",
              "8935                   534   genomic  ...    69.411033    30.588967\n",
              "8943                   542   genomic  ...    74.259780    25.740220\n",
              "8958                   551   genomic  ...    66.051260    33.948740\n",
              "\n",
              "[198 rows x 9 columns]"
            ]
          },
          "metadata": {
            "tags": []
          },
          "execution_count": 218
        }
      ]
    },
    {
      "cell_type": "code",
      "metadata": {
        "id": "PoWrRr2geAGR"
      },
      "source": [
        "#this is for annotation\n",
        "bact_type=np.full(orgainm_name.shape[0], \"unknown\", dtype='object')\n",
        "bact_type[esch_index]=\"Escherichia\"\n",
        "bact_type[kleb_index]=\"Klebsiella\"\n",
        "bact_type=bact_type[esch_index | kleb_index]\n"
      ],
      "execution_count": 220,
      "outputs": []
    },
    {
      "cell_type": "code",
      "metadata": {
        "id": "RoIG7vXUipez",
        "outputId": "7d954eed-6492-4ddd-ba42-e4eaf142bf26",
        "colab": {
          "base_uri": "https://localhost:8080/"
        }
      },
      "source": [
        "#calculate the distances\n",
        "bact_number=digest.shape[0]\n",
        "distances=np.zeros((bact_number,bact_number))\n",
        "for n in range(bact_number):\n",
        "  for m in range(bact_number):\n",
        "    if n>m:\n",
        "      a = counts_to_freqs([digest.iloc[m,5],digest.iloc[m,6]])\n",
        "      b = counts_to_freqs([digest.iloc[n,5],digest.iloc[n,6]])\n",
        "      distances[n,m]=ot.emd2(a, b, M)\n",
        "distances=distances + np.transpose(distances)\n",
        "distances"
      ],
      "execution_count": 229,
      "outputs": [
        {
          "output_type": "execute_result",
          "data": {
            "text/plain": [
              "array([[0.        , 0.08277632, 0.08346978, ..., 0.11638193, 0.1648694 ,\n",
              "        0.0827842 ],\n",
              "       [0.08277632, 0.        , 0.00069346, ..., 0.19915825, 0.24764572,\n",
              "        0.16556052],\n",
              "       [0.08346978, 0.00069346, 0.        , ..., 0.19985171, 0.24833917,\n",
              "        0.16625398],\n",
              "       ...,\n",
              "       [0.11638193, 0.19915825, 0.19985171, ..., 0.        , 0.04848747,\n",
              "        0.03359773],\n",
              "       [0.1648694 , 0.24764572, 0.24833917, ..., 0.04848747, 0.        ,\n",
              "        0.0820852 ],\n",
              "       [0.0827842 , 0.16556052, 0.16625398, ..., 0.03359773, 0.0820852 ,\n",
              "        0.        ]])"
            ]
          },
          "metadata": {
            "tags": []
          },
          "execution_count": 229
        }
      ]
    },
    {
      "cell_type": "code",
      "metadata": {
        "id": "xmZmi6cQIgFE",
        "outputId": "93a51a1c-0d46-4f08-d3bf-1f9f6cc59cc8",
        "colab": {
          "base_uri": "https://localhost:8080/",
          "height": 781
        }
      },
      "source": [
        "# Prepare a vector of color mapped to the 'cyl' column\n",
        "#my_palette = dict(zip(df.cyl.unique(), [\"orange\",\"green\"]))\n",
        "#row_colors = df.cyl.map(my_palette)\n",
        " \n",
        "# plot\n",
        "sns.clustermap(distances, metric=\"correlation\", method=\"single\", cmap=\"Blues\", standard_scale=1)\n",
        "#, row_colors=row_colors)\n",
        "\n"
      ],
      "execution_count": 232,
      "outputs": [
        {
          "output_type": "stream",
          "text": [
            "/usr/local/lib/python3.6/dist-packages/seaborn/matrix.py:659: UserWarning: Clustering large matrix with scipy. Installing `fastcluster` may give better performance.\n",
            "  warnings.warn(msg)\n"
          ],
          "name": "stderr"
        },
        {
          "output_type": "execute_result",
          "data": {
            "text/plain": [
              "<seaborn.matrix.ClusterGrid at 0x7fb981e0b710>"
            ]
          },
          "metadata": {
            "tags": []
          },
          "execution_count": 232
        },
        {
          "output_type": "display_data",
          "data": {
            "image/png": "[encoded data removed]",
            "text/plain": [
              "<Figure size 720x720 with 4 Axes>"
            ]
          },
          "metadata": {
            "tags": [],
            "needs_background": "light"
          }
        }
      ]
    }
  ]
}